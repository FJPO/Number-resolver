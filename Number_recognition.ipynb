{
  "nbformat": 4,
  "nbformat_minor": 0,
  "metadata": {
    "colab": {
      "name": "Number-recognition.ipynb",
      "provenance": [],
      "authorship_tag": "ABX9TyOzvdJ61OR63VCOaNdnW6Zc"
    },
    "kernelspec": {
      "name": "python3",
      "display_name": "Python 3"
    },
    "accelerator": "GPU"
  },
  "cells": [
    {
      "cell_type": "code",
      "metadata": {
        "id": "Va6-76vP6Tgv"
      },
      "source": [
        "# Imports\r\n",
        "from tensorflow.keras.datasets import mnist\r\n",
        "\r\n",
        "from tensorflow.keras.models import Sequential\r\n",
        "from tensorflow.keras.layers import Dense\r\n",
        "\r\n",
        "from tensorflow.keras import utils\r\n",
        "import matplotlib.pyplot as plt\r\n",
        "from PIL import Image\r\n",
        "import numpy as np"
      ],
      "execution_count": 23,
      "outputs": []
    },
    {
      "cell_type": "code",
      "metadata": {
        "id": "5JV9aTz77siQ"
      },
      "source": [
        "# Optimization of data\r\n",
        "# plt.imshow(Image.fromarray(x_train[1]))\r\n",
        "\r\n",
        "(x_train, y_train), (x_test, y_test) = mnist.load_data()\r\n",
        "\r\n",
        "x_train = x_train.reshape(60000, 784)\r\n",
        "x_test = x_test.reshape(10000, 784)\r\n",
        "\r\n",
        "x_train = x_train.astype('float32')\r\n",
        "x_test = x_test.astype('float32')\r\n",
        "\r\n",
        "x_train /= 255\r\n",
        "x_test /= 255\r\n",
        "\r\n",
        "y_train = utils.to_categorical(y_train, 10)\r\n",
        "y_test = utils.to_categorical(y_test, 10)"
      ],
      "execution_count": 24,
      "outputs": []
    },
    {
      "cell_type": "code",
      "metadata": {
        "colab": {
          "base_uri": "https://localhost:8080/"
        },
        "id": "YOMP6YOT-Cen",
        "outputId": "afbe0726-9864-4c55-a30a-2b5cf8080fad"
      },
      "source": [
        "# magic\r\n",
        "model = Sequential()\r\n",
        "model.add(Dense(800, input_dim=784, activation=\"relu\"))\r\n",
        "model.add(Dense(400, activation=\"relu\")) \r\n",
        "model.add(Dense(10, activation=\"softmax\"))\r\n",
        "model.compile(loss=\"categorical_crossentropy\", optimizer=\"adam\", metrics=[\"accuracy\"]) # Компилируем модель\r\n",
        "model.fit(x_train, y_train, batch_size=128, epochs=15, verbose=1)\r\n",
        "model.save_weights('Number_resolver.h5')\r\n"
      ],
      "execution_count": 25,
      "outputs": [
        {
          "output_type": "stream",
          "text": [
            "Epoch 1/15\n",
            "469/469 [==============================] - 1s 2ms/step - loss: 0.3705 - accuracy: 0.8903\n",
            "Epoch 2/15\n",
            "469/469 [==============================] - 1s 2ms/step - loss: 0.0779 - accuracy: 0.9757\n",
            "Epoch 3/15\n",
            "469/469 [==============================] - 1s 2ms/step - loss: 0.0459 - accuracy: 0.9856\n",
            "Epoch 4/15\n",
            "469/469 [==============================] - 1s 2ms/step - loss: 0.0351 - accuracy: 0.9882\n",
            "Epoch 5/15\n",
            "469/469 [==============================] - 1s 2ms/step - loss: 0.0228 - accuracy: 0.9930\n",
            "Epoch 6/15\n",
            "469/469 [==============================] - 1s 2ms/step - loss: 0.0178 - accuracy: 0.9946\n",
            "Epoch 7/15\n",
            "469/469 [==============================] - 1s 2ms/step - loss: 0.0144 - accuracy: 0.9952\n",
            "Epoch 8/15\n",
            "469/469 [==============================] - 1s 2ms/step - loss: 0.0135 - accuracy: 0.9958\n",
            "Epoch 9/15\n",
            "469/469 [==============================] - 1s 2ms/step - loss: 0.0133 - accuracy: 0.9957\n",
            "Epoch 10/15\n",
            "469/469 [==============================] - 1s 2ms/step - loss: 0.0110 - accuracy: 0.9964\n",
            "Epoch 11/15\n",
            "469/469 [==============================] - 1s 2ms/step - loss: 0.0109 - accuracy: 0.9961\n",
            "Epoch 12/15\n",
            "469/469 [==============================] - 1s 2ms/step - loss: 0.0143 - accuracy: 0.9950\n",
            "Epoch 13/15\n",
            "469/469 [==============================] - 1s 2ms/step - loss: 0.0080 - accuracy: 0.9976\n",
            "Epoch 14/15\n",
            "469/469 [==============================] - 1s 2ms/step - loss: 0.0088 - accuracy: 0.9974\n",
            "Epoch 15/15\n",
            "469/469 [==============================] - 1s 2ms/step - loss: 0.0085 - accuracy: 0.9975\n"
          ],
          "name": "stdout"
        }
      ]
    },
    {
      "cell_type": "code",
      "metadata": {
        "colab": {
          "base_uri": "https://localhost:8080/",
          "height": 298
        },
        "id": "dbl08qlF_CJJ",
        "outputId": "e0ad4a7c-0778-41c3-ec5c-5a4ed1202797"
      },
      "source": [
        "# Testing\r\n",
        "t = 1234\r\n",
        "\r\n",
        "plt.imshow(Image.fromarray(x_test[t].reshape(28, 28) * 256))\r\n",
        "print('We expect ', np.argmax(y_test[t]))\r\n",
        "x = np.expand_dims(x_test[t], axis = 0)\r\n",
        "print('We get ', np.argmax(model.predict(x)))"
      ],
      "execution_count": 31,
      "outputs": [
        {
          "output_type": "stream",
          "text": [
            "We expect  8\n",
            "We get  8\n"
          ],
          "name": "stdout"
        },
        {
          "output_type": "display_data",
          "data": {
            "image/png": "[encoded data removed]",
            "text/plain": [
              "<Figure size 432x288 with 1 Axes>"
            ]
          },
          "metadata": {
            "tags": [],
            "needs_background": "light"
          }
        }
      ]
    }
  ]
}